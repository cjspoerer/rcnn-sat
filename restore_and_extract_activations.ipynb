{
 "cells": [
  {
   "cell_type": "code",
   "execution_count": 1,
   "metadata": {
    "scrolled": true
   },
   "outputs": [],
   "source": [
    "import urllib\n",
    "\n",
    "import numpy as np\n",
    "import tensorflow as tf\n",
    "tf.enable_v2_behavior()\n",
    "\n",
    "from rcnn_sat import preprocess_image, bl_net"
   ]
  },
  {
   "cell_type": "markdown",
   "metadata": {},
   "source": [
    "# Restore model and extract activations\n",
    "This example shows how to extract activations from a pre-trained model. We'll use the BL model trained on eco-set."
   ]
  },
  {
   "cell_type": "markdown",
   "metadata": {},
   "source": [
    "## Building the model"
   ]
  },
  {
   "cell_type": "markdown",
   "metadata": {},
   "source": [
    "First, we build the graph for the model using a placeholder for the input."
   ]
  },
  {
   "cell_type": "code",
   "execution_count": 2,
   "metadata": {},
   "outputs": [
    {
     "name": "stdout",
     "output_type": "stream",
     "text": [
      "WARNING:tensorflow:From C:\\Users\\Courtney\\Anaconda3\\envs\\tensorflow\\lib\\site-packages\\tensorflow\\python\\ops\\resource_variable_ops.py:642: colocate_with (from tensorflow.python.framework.ops) is deprecated and will be removed in a future version.\n",
      "Instructions for updating:\n",
      "Colocations handled automatically by placer.\n"
     ]
    }
   ],
   "source": [
    "input_layer = tf.keras.layers.Input((128, 128, 3))\n",
    "model = bl_net(input_layer, classes=565, cumulative_readout=True)"
   ]
  },
  {
   "cell_type": "markdown",
   "metadata": {},
   "source": [
    "All model functions take an input layer as the first argument and the number of classes as the second. Note for ecoset `classes=565` and for ImageNet `classes=1000`.\n",
    "\n",
    "BL has an additional argument specifying whether or not to use a cumulative readout. By deafult `cumulative_readout=False`."
   ]
  },
  {
   "cell_type": "markdown",
   "metadata": {},
   "source": [
    "## Loading the weights\n",
    "Download the pre-trained weights for the models from OSF (weights for other models can be found [here](https://osf.io/mz9hw/))."
   ]
  },
  {
   "cell_type": "code",
   "execution_count": null,
   "metadata": {},
   "outputs": [],
   "source": [
    "_, msg = urllib.request.urlretrieve(\n",
    "    'https://osf.io/9td5p/download', 'bl_ecoset.h5')\n",
    "print(msg)"
   ]
  },
  {
   "cell_type": "markdown",
   "metadata": {},
   "source": [
    "Load the weights into the model"
   ]
  },
  {
   "cell_type": "code",
   "execution_count": 3,
   "metadata": {},
   "outputs": [],
   "source": [
    "model.load_weights('bl_ecoset.h5')"
   ]
  },
  {
   "cell_type": "markdown",
   "metadata": {},
   "source": [
    "## Extract activations\n",
    "\n",
    "To get the activation in Keras we need to know the name of the layer. The name of the output at each layer and time step has the format `ReLU_Layer_{layer_index}_Time_{time_index}`. So, the output of the first layer on the third time step is labelled `ReLU_Layer_0_Time_2` (note that zero-indexing is used).\n",
    "\n",
    "We use this to create a function mapping from input to output that we call to get a numpy array of the layer activations."
   ]
  },
  {
   "cell_type": "code",
   "execution_count": 4,
   "metadata": {},
   "outputs": [],
   "source": [
    "get_layer_activation = tf.keras.backend.function(\n",
    "    [model.input],\n",
    "    [model.get_layer('ReLU_Layer_0_Time_2').output])"
   ]
  },
  {
   "cell_type": "markdown",
   "metadata": {},
   "source": [
    "Now we'll get the activations based on a random image. We scale the image into the correct range for the pre-trained networks by passing the image through `preprocess_image`. The image must be in `uint8` format (values in the range `[0, 255]`)."
   ]
  },
  {
   "cell_type": "code",
   "execution_count": 5,
   "metadata": {
    "scrolled": true
   },
   "outputs": [
    {
     "data": {
      "text/plain": [
       "[array([[[[1.7345557 , 1.2931564 , 0.        , ..., 0.40440372,\n",
       "           0.55534697, 1.5363963 ],\n",
       "          [0.07397947, 1.6641147 , 0.        , ..., 0.        ,\n",
       "           0.        , 1.4803685 ],\n",
       "          [0.        , 0.06762171, 0.        , ..., 0.        ,\n",
       "           0.        , 0.7741227 ],\n",
       "          ...,\n",
       "          [0.        , 0.2210756 , 0.50375617, ..., 0.        ,\n",
       "           0.        , 0.        ],\n",
       "          [3.1864197 , 0.21792549, 0.        , ..., 0.        ,\n",
       "           0.6976775 , 0.        ],\n",
       "          [0.        , 0.1745987 , 0.204889  , ..., 0.        ,\n",
       "           1.101606  , 0.        ]],\n",
       " \n",
       "         [[0.        , 0.66232175, 0.        , ..., 0.        ,\n",
       "           0.        , 1.3742282 ],\n",
       "          [0.        , 0.        , 0.        , ..., 0.        ,\n",
       "           0.        , 0.59119904],\n",
       "          [0.        , 0.        , 1.1477087 , ..., 0.        ,\n",
       "           0.        , 0.        ],\n",
       "          ...,\n",
       "          [0.        , 0.        , 0.4341197 , ..., 0.        ,\n",
       "           0.20090781, 0.        ],\n",
       "          [0.        , 0.        , 0.        , ..., 0.        ,\n",
       "           0.        , 0.        ],\n",
       "          [1.5886543 , 0.        , 0.        , ..., 0.        ,\n",
       "           0.        , 0.        ]],\n",
       " \n",
       "         [[0.        , 0.        , 0.1960764 , ..., 0.        ,\n",
       "           1.2930257 , 1.4193213 ],\n",
       "          [0.        , 0.        , 0.        , ..., 0.        ,\n",
       "           0.        , 0.9294405 ],\n",
       "          [0.        , 0.        , 0.        , ..., 0.        ,\n",
       "           0.        , 0.        ],\n",
       "          ...,\n",
       "          [0.18873301, 0.        , 0.        , ..., 0.        ,\n",
       "           0.5473708 , 0.        ],\n",
       "          [0.        , 0.        , 0.        , ..., 0.        ,\n",
       "           0.4876458 , 0.        ],\n",
       "          [0.        , 0.        , 0.        , ..., 0.        ,\n",
       "           0.        , 0.        ]],\n",
       " \n",
       "         ...,\n",
       " \n",
       "         [[2.3424637 , 0.8168537 , 0.        , ..., 0.        ,\n",
       "           0.        , 0.9654218 ],\n",
       "          [0.        , 0.45924544, 0.6629098 , ..., 0.        ,\n",
       "           0.30399746, 0.        ],\n",
       "          [0.        , 0.38722664, 0.        , ..., 0.        ,\n",
       "           0.        , 0.38923788],\n",
       "          ...,\n",
       "          [0.        , 0.        , 0.        , ..., 0.        ,\n",
       "           0.        , 0.16792871],\n",
       "          [0.        , 0.        , 0.        , ..., 0.        ,\n",
       "           0.49172878, 0.        ],\n",
       "          [0.        , 0.        , 1.4030122 , ..., 0.        ,\n",
       "           0.        , 0.        ]],\n",
       " \n",
       "         [[0.        , 0.        , 0.        , ..., 0.        ,\n",
       "           0.        , 0.9982091 ],\n",
       "          [0.08184288, 0.        , 0.        , ..., 0.        ,\n",
       "           0.        , 0.5072651 ],\n",
       "          [0.        , 0.        , 0.        , ..., 0.        ,\n",
       "           0.        , 0.7146785 ],\n",
       "          ...,\n",
       "          [0.        , 0.        , 0.        , ..., 0.        ,\n",
       "           0.        , 1.7092923 ],\n",
       "          [2.0349667 , 0.45183563, 0.        , ..., 0.        ,\n",
       "           0.        , 1.015341  ],\n",
       "          [0.        , 1.9157634 , 0.24915445, ..., 0.        ,\n",
       "           0.5802731 , 0.        ]],\n",
       " \n",
       "         [[0.        , 0.        , 0.60042554, ..., 0.        ,\n",
       "           0.        , 0.9955976 ],\n",
       "          [2.2381275 , 1.0243175 , 0.        , ..., 0.        ,\n",
       "           0.        , 0.06631255],\n",
       "          [0.        , 0.        , 0.        , ..., 0.        ,\n",
       "           0.        , 0.6642065 ],\n",
       "          ...,\n",
       "          [1.5412076 , 0.        , 0.36235732, ..., 0.        ,\n",
       "           0.        , 0.        ],\n",
       "          [0.        , 1.714042  , 0.        , ..., 0.        ,\n",
       "           0.        , 0.10103817],\n",
       "          [1.1895202 , 0.        , 0.        , ..., 0.        ,\n",
       "           0.        , 0.        ]]]], dtype=float32)]"
      ]
     },
     "execution_count": 5,
     "metadata": {},
     "output_type": "execute_result"
    }
   ],
   "source": [
    "random_img = np.random.randint(0, 256, (1, 128, 128, 3), dtype=np.uint8)\n",
    "preprocessed_img = preprocess_image(random_img)\n",
    "get_layer_activation(preprocessed_img)"
   ]
  }
 ],
 "metadata": {
  "kernelspec": {
   "display_name": "Python 3",
   "language": "python",
   "name": "python3"
  },
  "language_info": {
   "codemirror_mode": {
    "name": "ipython",
    "version": 3
   },
   "file_extension": ".py",
   "mimetype": "text/x-python",
   "name": "python",
   "nbconvert_exporter": "python",
   "pygments_lexer": "ipython3",
   "version": "3.6.4"
  }
 },
 "nbformat": 4,
 "nbformat_minor": 2
}
