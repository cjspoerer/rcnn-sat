{
 "cells": [
  {
   "cell_type": "code",
   "execution_count": 1,
   "metadata": {
    "scrolled": true
   },
   "outputs": [],
   "source": [
    "#import requests\n",
    "\n",
    "import numpy as np\n",
    "import tensorflow as tf\n",
    "tf.enable_v2_behavior()\n",
    "\n",
    "from rcnn_sat import preprocess_image\n",
    "from rcnn_sat.bl_net import bl_net"
   ]
  },
  {
   "cell_type": "markdown",
   "metadata": {},
   "source": [
    "# Restore model and extract activations\n",
    "This example shows how to extract activations from a pre-trained model. We'll use the BL model trained on eco-set."
   ]
  },
  {
   "cell_type": "markdown",
   "metadata": {},
   "source": [
    "## Building the model"
   ]
  },
  {
   "cell_type": "markdown",
   "metadata": {},
   "source": [
    "First, we build the graph for the model using a placeholder for the input."
   ]
  },
  {
   "cell_type": "code",
   "execution_count": 2,
   "metadata": {},
   "outputs": [
    {
     "name": "stdout",
     "output_type": "stream",
     "text": [
      "WARNING:tensorflow:From C:\\Users\\Courtney\\Anaconda3\\envs\\tensorflow\\lib\\site-packages\\tensorflow\\python\\ops\\resource_variable_ops.py:642: colocate_with (from tensorflow.python.framework.ops) is deprecated and will be removed in a future version.\n",
      "Instructions for updating:\n",
      "Colocations handled automatically by placer.\n"
     ]
    }
   ],
   "source": [
    "input_layer = tf.keras.layers.Input((128, 128, 3))\n",
    "model = bl_net(input_layer, classes=565, cumulative_readout=True)"
   ]
  },
  {
   "cell_type": "markdown",
   "metadata": {},
   "source": [
    "All model functions take an input layer as the first argument and the number of classes as the second. Note for ecoset `classes=565` and for ImageNet `classes=1000`.\n",
    "\n",
    "BL has an additional argument specifying whether or not to use a cumulative readout. By deafult `cumulative_readout=False`."
   ]
  },
  {
   "cell_type": "markdown",
   "metadata": {},
   "source": [
    "## Loading the weights\n",
    "\n",
    "Download the pre-trained weights for the models from OSF (all weights are available from this [link](https://osf.io/mz9hw/))."
   ]
  },
  {
   "cell_type": "code",
   "execution_count": null,
   "metadata": {},
   "outputs": [],
   "source": [
    "r = requests.get('https://osf.io/ac4ng/download')\n",
    "with open('bl_ecoset.h5', 'wb') as f:  \n",
    "    f.write(r.content)"
   ]
  },
  {
   "cell_type": "markdown",
   "metadata": {},
   "source": [
    "Load the weights into the model"
   ]
  },
  {
   "cell_type": "code",
   "execution_count": 3,
   "metadata": {},
   "outputs": [],
   "source": [
    "model.load_weights('bl_ecoset.h5')"
   ]
  },
  {
   "cell_type": "markdown",
   "metadata": {},
   "source": [
    "## Extract activations\n",
    "\n",
    "To get the activation in Keras we need to know the name of the layer. The name of the output at each layer and time step has the format `ReLU_Layer_{layer_index}_Time_{time_index}`. So, the output of the first layer on the third time step is labelled `ReLU_Layer_0_Time_2` (note that zero-indexing is used).\n",
    "\n",
    "We use this to create a function mapping from input to output that we call to get a numpy array of the layer activations."
   ]
  },
  {
   "cell_type": "code",
   "execution_count": 4,
   "metadata": {},
   "outputs": [],
   "source": [
    "get_layer_activation = tf.keras.backend.function(\n",
    "    [model.input],\n",
    "    [model.get_layer('ReLU_Layer_0_Time_2').output])"
   ]
  },
  {
   "cell_type": "markdown",
   "metadata": {},
   "source": [
    "Now we'll get the activations based on a random image. We scale the image into the correct range for the pre-trained networks by passing the image through `preprocess_image`. The image must be in `uint8` format (values in the range `[0, 255]`)."
   ]
  },
  {
   "cell_type": "code",
   "execution_count": 5,
   "metadata": {
    "scrolled": true
   },
   "outputs": [
    {
     "data": {
      "text/plain": [
       "[array([[[[0.0000000e+00, 0.0000000e+00, 2.0927539e-01, ...,\n",
       "           0.0000000e+00, 2.3100780e-01, 1.1727836e+00],\n",
       "          [0.0000000e+00, 0.0000000e+00, 0.0000000e+00, ...,\n",
       "           0.0000000e+00, 1.3024559e+00, 4.8215500e-01],\n",
       "          [4.8849031e-01, 1.7477043e+00, 0.0000000e+00, ...,\n",
       "           0.0000000e+00, 1.9862010e+00, 3.1804517e-03],\n",
       "          ...,\n",
       "          [0.0000000e+00, 0.0000000e+00, 0.0000000e+00, ...,\n",
       "           0.0000000e+00, 0.0000000e+00, 0.0000000e+00],\n",
       "          [1.1324693e+00, 0.0000000e+00, 0.0000000e+00, ...,\n",
       "           0.0000000e+00, 9.5403779e-01, 2.7408990e-01],\n",
       "          [0.0000000e+00, 0.0000000e+00, 0.0000000e+00, ...,\n",
       "           0.0000000e+00, 0.0000000e+00, 5.9002304e-01]],\n",
       " \n",
       "         [[0.0000000e+00, 0.0000000e+00, 1.4243525e+00, ...,\n",
       "           0.0000000e+00, 0.0000000e+00, 3.9274761e-01],\n",
       "          [3.6923146e-01, 1.3568745e+00, 0.0000000e+00, ...,\n",
       "           0.0000000e+00, 0.0000000e+00, 0.0000000e+00],\n",
       "          [0.0000000e+00, 1.5459092e+00, 0.0000000e+00, ...,\n",
       "           0.0000000e+00, 0.0000000e+00, 0.0000000e+00],\n",
       "          ...,\n",
       "          [0.0000000e+00, 0.0000000e+00, 1.0388272e+00, ...,\n",
       "           0.0000000e+00, 0.0000000e+00, 0.0000000e+00],\n",
       "          [8.6529922e-01, 0.0000000e+00, 0.0000000e+00, ...,\n",
       "           0.0000000e+00, 0.0000000e+00, 0.0000000e+00],\n",
       "          [0.0000000e+00, 0.0000000e+00, 0.0000000e+00, ...,\n",
       "           0.0000000e+00, 6.9077179e-02, 0.0000000e+00]],\n",
       " \n",
       "         [[0.0000000e+00, 1.1432731e+00, 1.4564004e+00, ...,\n",
       "           0.0000000e+00, 0.0000000e+00, 0.0000000e+00],\n",
       "          [1.9184592e-01, 1.7769346e+00, 0.0000000e+00, ...,\n",
       "           0.0000000e+00, 0.0000000e+00, 0.0000000e+00],\n",
       "          [0.0000000e+00, 0.0000000e+00, 0.0000000e+00, ...,\n",
       "           0.0000000e+00, 0.0000000e+00, 0.0000000e+00],\n",
       "          ...,\n",
       "          [0.0000000e+00, 4.5726299e-02, 0.0000000e+00, ...,\n",
       "           0.0000000e+00, 0.0000000e+00, 0.0000000e+00],\n",
       "          [0.0000000e+00, 9.8131895e-02, 0.0000000e+00, ...,\n",
       "           0.0000000e+00, 0.0000000e+00, 0.0000000e+00],\n",
       "          [2.3440906e-01, 0.0000000e+00, 0.0000000e+00, ...,\n",
       "           0.0000000e+00, 0.0000000e+00, 0.0000000e+00]],\n",
       " \n",
       "         ...,\n",
       " \n",
       "         [[0.0000000e+00, 1.1838675e-03, 1.3181781e+00, ...,\n",
       "           0.0000000e+00, 5.5860752e-01, 8.7670803e-01],\n",
       "          [5.9509772e-01, 0.0000000e+00, 0.0000000e+00, ...,\n",
       "           0.0000000e+00, 5.2228194e-01, 6.8766880e-01],\n",
       "          [0.0000000e+00, 0.0000000e+00, 1.6231453e-01, ...,\n",
       "           0.0000000e+00, 0.0000000e+00, 0.0000000e+00],\n",
       "          ...,\n",
       "          [0.0000000e+00, 0.0000000e+00, 0.0000000e+00, ...,\n",
       "           0.0000000e+00, 0.0000000e+00, 6.3171136e-01],\n",
       "          [0.0000000e+00, 0.0000000e+00, 4.4816357e-01, ...,\n",
       "           0.0000000e+00, 0.0000000e+00, 9.3217567e-02],\n",
       "          [2.5128460e+00, 6.6767949e-01, 0.0000000e+00, ...,\n",
       "           0.0000000e+00, 0.0000000e+00, 2.3948687e-01]],\n",
       " \n",
       "         [[7.2732770e-01, 2.0979431e+00, 1.1098706e+00, ...,\n",
       "           0.0000000e+00, 0.0000000e+00, 7.5121725e-01],\n",
       "          [0.0000000e+00, 1.1929770e+00, 0.0000000e+00, ...,\n",
       "           0.0000000e+00, 0.0000000e+00, 1.4559783e-01],\n",
       "          [0.0000000e+00, 4.8401064e-01, 0.0000000e+00, ...,\n",
       "           0.0000000e+00, 5.7908857e-01, 0.0000000e+00],\n",
       "          ...,\n",
       "          [0.0000000e+00, 0.0000000e+00, 0.0000000e+00, ...,\n",
       "           0.0000000e+00, 0.0000000e+00, 6.0940003e-01],\n",
       "          [6.3886815e-01, 1.4246984e+00, 0.0000000e+00, ...,\n",
       "           0.0000000e+00, 0.0000000e+00, 0.0000000e+00],\n",
       "          [0.0000000e+00, 0.0000000e+00, 0.0000000e+00, ...,\n",
       "           0.0000000e+00, 0.0000000e+00, 0.0000000e+00]],\n",
       " \n",
       "         [[3.3445847e+00, 1.5066476e+00, 0.0000000e+00, ...,\n",
       "           2.0932654e-01, 0.0000000e+00, 4.0800789e-01],\n",
       "          [0.0000000e+00, 0.0000000e+00, 1.4068124e+00, ...,\n",
       "           0.0000000e+00, 0.0000000e+00, 3.1623369e-01],\n",
       "          [1.9961178e+00, 0.0000000e+00, 0.0000000e+00, ...,\n",
       "           0.0000000e+00, 0.0000000e+00, 0.0000000e+00],\n",
       "          ...,\n",
       "          [3.2961723e-01, 0.0000000e+00, 0.0000000e+00, ...,\n",
       "           0.0000000e+00, 0.0000000e+00, 5.6358361e-01],\n",
       "          [0.0000000e+00, 0.0000000e+00, 0.0000000e+00, ...,\n",
       "           0.0000000e+00, 0.0000000e+00, 1.9252771e-01],\n",
       "          [1.8111639e-01, 0.0000000e+00, 1.2335250e+00, ...,\n",
       "           0.0000000e+00, 0.0000000e+00, 0.0000000e+00]]]], dtype=float32)]"
      ]
     },
     "execution_count": 5,
     "metadata": {},
     "output_type": "execute_result"
    }
   ],
   "source": [
    "random_img = np.random.randint(0, 256, (1, 128, 128, 3), dtype=np.uint8)\n",
    "preprocessed_img = preprocess_image(random_img)\n",
    "get_layer_activation(preprocessed_img)"
   ]
  }
 ],
 "metadata": {
  "kernelspec": {
   "display_name": "Python 3",
   "language": "python",
   "name": "python3"
  },
  "language_info": {
   "codemirror_mode": {
    "name": "ipython",
    "version": 3
   },
   "file_extension": ".py",
   "mimetype": "text/x-python",
   "name": "python",
   "nbconvert_exporter": "python",
   "pygments_lexer": "ipython3",
   "version": "3.6.4"
  }
 },
 "nbformat": 4,
 "nbformat_minor": 2
}
